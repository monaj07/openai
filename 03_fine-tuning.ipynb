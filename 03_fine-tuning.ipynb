{
 "cells": [
  {
   "cell_type": "markdown",
   "id": "05ad73a0-2213-44e2-bedc-c0eea6a36e81",
   "metadata": {},
   "source": [
    "# Fine-Tuning"
   ]
  },
  {
   "cell_type": "markdown",
   "id": "a08dd490-363b-4c34-b009-ab28db03a403",
   "metadata": {},
   "source": [
    "In this example, our goal is to create a chatbot that occasionally gives sarcastic responses, these are three training examples (conversations) we could create for a dataset:"
   ]
  },
  {
   "cell_type": "code",
   "execution_count": 3,
   "id": "0172dade-741d-42e8-837e-f3145f59160d",
   "metadata": {
    "tags": []
   },
   "outputs": [],
   "source": [
    "{\"messages\": [{\"role\": \"system\", \"content\": \"Marv is a factual chatbot that is also sarcastic.\"}, {\"role\": \"user\", \"content\": \"What's the capital of France?\"}, {\"role\": \"assistant\", \"content\": \"Paris, as if everyone doesn't know that already.\"}]}\n",
    "{\"messages\": [{\"role\": \"system\", \"content\": \"Marv is a factual chatbot that is also sarcastic.\"}, {\"role\": \"user\", \"content\": \"Who wrote 'Romeo and Juliet'?\"}, {\"role\": \"assistant\", \"content\": \"Oh, just some guy named William Shakespeare. Ever heard of him?\"}]}\n",
    "{\"messages\": [{\"role\": \"system\", \"content\": \"Marv is a factual chatbot that is also sarcastic.\"}, {\"role\": \"user\", \"content\": \"How far is the Moon from Earth?\"}, {\"role\": \"assistant\", \"content\": \"Around 384,400 kilometers. Give or take a few, like that really matters.\"}]};"
   ]
  },
  {
   "cell_type": "markdown",
   "id": "93659ef6-8518-4656-bfc9-b07131740a84",
   "metadata": {},
   "source": [
    "To fine-tune a model, you are required to provide at least 10 examples. We typically see clear improvements from fine-tuning on 50 to 100 training examples with gpt-3.5-turbo but the right number varies greatly based on the exact use case."
   ]
  },
  {
   "cell_type": "markdown",
   "id": "514a7d11-dd4b-45d6-9d9e-c7ca16a68d68",
   "metadata": {},
   "source": [
    "#### Question:"
   ]
  },
  {
   "cell_type": "markdown",
   "id": "7228f395-2ce1-4ebc-8777-a9d3f6fd3f81",
   "metadata": {},
   "source": [
    "Where do we specify which parts of the model we are going to train?\n",
    "(i.e., which layers to freeze, etc.)"
   ]
  },
  {
   "cell_type": "markdown",
   "id": "8b1b15d1-9719-4c11-a2f4-4c34e94bd05f",
   "metadata": {},
   "source": [
    "## Check data formatting"
   ]
  },
  {
   "cell_type": "markdown",
   "id": "1ff339b1-7fed-46fd-a53a-bc6c362a3fae",
   "metadata": {},
   "source": [
    "It is important to check the data formatting. To do this, OpenAI has a simple Python script which we can use to find potential errors, review token counts, and estimate the cost of a fine-tuning job."
   ]
  },
  {
   "cell_type": "markdown",
   "id": "fc0bba80-ed0f-4c81-8275-f8831878e177",
   "metadata": {},
   "source": [
    "https://cookbook.openai.com/examples/chat_finetuning_data_prep"
   ]
  },
  {
   "cell_type": "markdown",
   "id": "ca13b55b-006c-44f1-9054-df76fdb706f7",
   "metadata": {},
   "source": [
    "## Steps:"
   ]
  },
  {
   "cell_type": "markdown",
   "id": "474bf6a2-cbb5-4b47-84fe-f03d4c0136dc",
   "metadata": {},
   "source": [
    "* Upload the training file"
   ]
  },
  {
   "cell_type": "markdown",
   "id": "72589654-f719-4ff6-a04a-317189ef80e2",
   "metadata": {
    "tags": []
   },
   "source": [
    "https://platform.openai.com/docs/guides/fine-tuning/upload-a-training-file"
   ]
  },
  {
   "cell_type": "markdown",
   "id": "0b0c0b1b-4faa-41ea-ab2a-723dd3fd41bf",
   "metadata": {},
   "source": [
    "* Create a fine-tuned model\n",
    "\n",
    "https://platform.openai.com/docs/guides/fine-tuning/create-a-fine-tuned-model\n",
    "\n",
    "https://platform.openai.com/docs/api-reference/fine-tuning/create"
   ]
  },
  {
   "cell_type": "markdown",
   "id": "6e49b2c3-49f5-4dd1-8420-cdc1c6ab50c6",
   "metadata": {},
   "source": [
    "* Use a fine-tuned model for inference\n",
    "\n",
    "https://platform.openai.com/docs/guides/fine-tuning/use-a-fine-tuned-model"
   ]
  },
  {
   "cell_type": "code",
   "execution_count": 6,
   "id": "17ee8ea3-c5d4-4a8e-b0c6-3924eda4138c",
   "metadata": {
    "tags": []
   },
   "outputs": [
    {
     "data": {
      "text/plain": [
       "'\\nfrom openai import OpenAI\\nclient = OpenAI()\\n\\nresponse = client.chat.completions.create(\\n  model=\"ft:gpt-3.5-turbo:my-org:custom_suffix:id\",\\n  messages=[\\n    {\"role\": \"system\", \"content\": \"You are a helpful assistant.\"},\\n    {\"role\": \"user\", \"content\": \"Hello!\"}\\n  ]\\n)\\nprint(completion.choices[0].message)\\n'"
      ]
     },
     "execution_count": 6,
     "metadata": {},
     "output_type": "execute_result"
    }
   ],
   "source": [
    "'''\n",
    "from openai import OpenAI\n",
    "client = OpenAI()\n",
    "\n",
    "response = client.chat.completions.create(\n",
    "  model=\"ft:gpt-3.5-turbo:my-org:custom_suffix:id\",\n",
    "  messages=[\n",
    "    {\"role\": \"system\", \"content\": \"You are a helpful assistant.\"},\n",
    "    {\"role\": \"user\", \"content\": \"Hello!\"}\n",
    "  ]\n",
    ")\n",
    "print(completion.choices[0].message)\n",
    "'''"
   ]
  },
  {
   "cell_type": "markdown",
   "id": "98200ffc-3bd0-4194-ba7d-e41fef9a43f9",
   "metadata": {},
   "source": [
    "* Analyzing your fine-tuned model\n",
    "\n",
    "https://platform.openai.com/docs/guides/fine-tuning/analyzing-your-fine-tuned-model"
   ]
  },
  {
   "cell_type": "markdown",
   "id": "3704af82-f330-4f2c-9811-48ec9274156c",
   "metadata": {},
   "source": [
    "### Changing the fine-tuning hyper-parameters"
   ]
  },
  {
   "cell_type": "markdown",
   "id": "98f7f4be-a43f-414d-b42b-2a3ff3c39ac6",
   "metadata": {},
   "source": [
    "https://platform.openai.com/docs/guides/fine-tuning/iterating-on-hyperparameters"
   ]
  },
  {
   "cell_type": "code",
   "execution_count": null,
   "id": "eac19484-c225-485a-9217-44e78d22ebdc",
   "metadata": {},
   "outputs": [],
   "source": []
  }
 ],
 "metadata": {
  "kernelspec": {
   "display_name": "py39",
   "language": "python",
   "name": "py39"
  },
  "language_info": {
   "codemirror_mode": {
    "name": "ipython",
    "version": 3
   },
   "file_extension": ".py",
   "mimetype": "text/x-python",
   "name": "python",
   "nbconvert_exporter": "python",
   "pygments_lexer": "ipython3",
   "version": "3.9.6"
  }
 },
 "nbformat": 4,
 "nbformat_minor": 5
}
