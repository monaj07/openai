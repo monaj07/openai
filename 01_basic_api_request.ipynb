{
 "cells": [
  {
   "cell_type": "markdown",
   "id": "56467fec-e1c6-453c-92b1-39c33b4d19ba",
   "metadata": {},
   "source": [
    "# Test OpenAI APIs"
   ]
  },
  {
   "cell_type": "code",
   "execution_count": 3,
   "id": "16fbd885-7b73-4ab2-92da-824c0ec56749",
   "metadata": {},
   "outputs": [],
   "source": [
    "# !pip install --upgrade pip\n",
    "# !pip install --upgrade openai"
   ]
  },
  {
   "cell_type": "markdown",
   "id": "a4075ec6-6dea-4473-aee0-c3583aa6dd27",
   "metadata": {
    "tags": []
   },
   "source": [
    "## Making an API request"
   ]
  },
  {
   "cell_type": "markdown",
   "id": "f2bd9b58-01d8-45a5-9b34-468271055e6d",
   "metadata": {},
   "source": [
    "### Chat Completion"
   ]
  },
  {
   "cell_type": "code",
   "execution_count": 6,
   "id": "e605b9a6-4d9d-4cd7-83ff-ded5c9011af7",
   "metadata": {
    "tags": []
   },
   "outputs": [],
   "source": [
    "from openai import OpenAI\n",
    "client = OpenAI()\n",
    "\n",
    "completion = client.chat.completions.create(\n",
    "    model=\"gpt-3.5-turbo\",\n",
    "    messages=[\n",
    "        {'role': 'system', 'content': 'You are a poetic assistant, skilled in explaining complex programming concepts with creative flair.'},\n",
    "        {'role': 'user', 'content': 'Compose a poem that explains the concept of recursion in programming.'}\n",
    "    ]\n",
    ")         "
   ]
  },
  {
   "cell_type": "code",
   "execution_count": 12,
   "id": "166de24e-f71a-4bbf-87e7-5d32b44a9150",
   "metadata": {
    "tags": []
   },
   "outputs": [
    {
     "name": "stdout",
     "output_type": "stream",
     "text": [
      "ChatCompletionMessage(content=\"In the realm of code, a wondrous tale to tell,\\nLies the mystic power of recursion's spell.\\nA looping enchantment, both humble and grand,\\nIn the heart of the processor, it takes a stand.\\n\\nImagine a garden, lush and green,\\nWhere tasks, like flowers, bloom serene.\\nYou have a helper, both nimble and bright,\\nCalled upon to solve a perplexing plight.\\n\\nWith method and purpose, this helper begins,\\nUnraveling problems, their mysteries within.\\nBut lo! As it journeys, it encounters a maze,\\nA path twisted and tangled, shrouded in haze.\\n\\nFear not, for recursion whispers its name,\\nA secret technique, a sprinter’s flame.\\nLike a mirror reflecting its own reflex,\\nThe helper, with grace, calls itself, never perplexed.\\n\\nWith each new call, the task is divided,\\nInto smaller pieces, our helper guided.\\nAnd like fractals, endlessly repeating,\\nThe problem shrinks, its core retreating.\\n\\nThe helper, it solves one tiny slice,\\nAnd then, it returns to solve it twice!\\nLike echoes in space, its voice persists,\\nRepeating the cycle, persistently insists.\\n\\nEach return, a breadcrumb it leaves behind,\\nNavigating the maze, it remains aligned.\\nTill, finally, it unwinds back to the start,\\nUncovering the answers, piece by part.\\n\\nOh, recursion, a dance of infinite grace,\\nA cycle unbroken, traversing space.\\nBounding through layers, like a melody's rise,\\nUnveiling truths, where complexity lies.\\n\\nAnd thus, my friend, this tale shall end,\\nOf recursion, an ally, forever lend.\\nIn the realm of code, where wonders dwell,\\nIts power and charm, forever excel.\", role='assistant', function_call=None, tool_calls=None)\n"
     ]
    }
   ],
   "source": [
    "print(completion.choices[0].message)"
   ]
  },
  {
   "cell_type": "markdown",
   "id": "c8af2f5d-0520-445c-89ac-e73faa5652fd",
   "metadata": {},
   "source": [
    "### Vision"
   ]
  },
  {
   "cell_type": "code",
   "execution_count": 23,
   "id": "c78b696c-fae1-43ce-9558-4a92ec96d622",
   "metadata": {
    "tags": []
   },
   "outputs": [],
   "source": [
    "from openai import OpenAI\n",
    "client = OpenAI()\n",
    "\n",
    "response = client.images.generate(\n",
    "    model='dall-e-3',\n",
    "    prompt=\"A photorealistic picture of a panda driving an F1 car\",\n",
    "    n=1,\n",
    "    size=\"1024x1024\"\n",
    ")"
   ]
  },
  {
   "cell_type": "code",
   "execution_count": 24,
   "id": "3b39ac40-1ff7-4739-b837-84bded51a57b",
   "metadata": {
    "tags": []
   },
   "outputs": [
    {
     "name": "stdout",
     "output_type": "stream",
     "text": [
      "ImagesResponse(created=1699533050, data=[Image(b64_json=None, revised_prompt='A highly realistic illustration of a panda manoeuvring a Formula 1 race car on a speed track. The panda is wearing a red and white race car helmet and a jumpsuit, gripping the steering wheel with concentration. The background portrays a blurred image of a race track with stands full of cheering audience. The weather is sunny, creating a bright ambiance. Clouds of dust are arising from the spinning tires, encapsulating the high-speed, heart-racing action of a Formula 1 race.', url='https://oaidalleapiprodscus.blob.core.windows.net/private/org-nF28VYdtxKipZI5YJlle8CWM/user-fnuieYN6OV2gkhKNROpSieCI/img-psgTp4eQZd6tz0ZINhjbWByZ.png?st=2023-11-09T11%3A30%3A50Z&se=2023-11-09T13%3A30%3A50Z&sp=r&sv=2021-08-06&sr=b&rscd=inline&rsct=image/png&skoid=6aaadede-4fb3-4698-a8f6-684d7786b067&sktid=a48cca56-e6da-484e-a814-9c849652bcb3&skt=2023-11-09T11%3A44%3A50Z&ske=2023-11-10T11%3A44%3A50Z&sks=b&skv=2021-08-06&sig=AB8/x5nHgKPY01z5XYqJpnAh8GokvJz2NWoWX276Cq8%3D')])\n"
     ]
    }
   ],
   "source": [
    "print(response)"
   ]
  },
  {
   "cell_type": "markdown",
   "id": "1cbd7f5e-68b9-4f82-9298-1a1356e9fbfc",
   "metadata": {},
   "source": []
  }
 ],
 "metadata": {
  "kernelspec": {
   "display_name": "py39",
   "language": "python",
   "name": "py39"
  },
  "language_info": {
   "codemirror_mode": {
    "name": "ipython",
    "version": 3
   },
   "file_extension": ".py",
   "mimetype": "text/x-python",
   "name": "python",
   "nbconvert_exporter": "python",
   "pygments_lexer": "ipython3",
   "version": "3.9.6"
  }
 },
 "nbformat": 4,
 "nbformat_minor": 5
}
