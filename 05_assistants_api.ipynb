{
 "cells": [
  {
   "cell_type": "markdown",
   "id": "800207ed-fbae-46b8-b437-78ed72665140",
   "metadata": {},
   "source": [
    "# Assistants API"
   ]
  },
  {
   "cell_type": "markdown",
   "id": "f20679a3-5360-48fb-94f3-e30104117291",
   "metadata": {
    "tags": []
   },
   "source": [
    "The Assistants API currently supports three types of tools: \n",
    "*    Code Interpreter, \n",
    "*    Retrieval, and \n",
    "*    Function calling. "
   ]
  },
  {
   "cell_type": "markdown",
   "id": "a4775f7c-a0a8-45cb-9081-3feac0e93c69",
   "metadata": {},
   "source": [
    "At a high-level, for a typical assistants API:\n",
    "\n",
    "1. Create an Assistant in the API by defining its custom instructions and picking a model. \n",
    "    * If helpful, enable tools like Code Interpreter, Retrieval, and Function calling.\n",
    "2. Create a Thread when a user starts a conversation.\n",
    "3. Add Messages to the Thread as the user ask questions.\n",
    "4. Run the Assistant on the Thread to trigger responses. \n",
    "    * This automatically calls the relevant tools."
   ]
  },
  {
   "cell_type": "markdown",
   "id": "a158f74c-8a9a-4dda-b7fa-df1811e08f73",
   "metadata": {},
   "source": [
    "Let's create and run an Assistant that uses Code Interpreter."
   ]
  },
  {
   "cell_type": "markdown",
   "id": "5bdfbf54-2384-46ec-8de6-7562d98ce6d3",
   "metadata": {},
   "source": [
    "## Step 1: Create an Assistant"
   ]
  },
  {
   "cell_type": "markdown",
   "id": "25a84c5a-ca50-456c-8bf0-c5eeb871ae51",
   "metadata": {},
   "source": [
    "https://platform.openai.com/docs/assistants/overview/step-1-create-an-assistant"
   ]
  },
  {
   "cell_type": "code",
   "execution_count": 2,
   "id": "dd6d0c95-e751-4c55-9712-b2d08f9cffef",
   "metadata": {
    "tags": []
   },
   "outputs": [],
   "source": [
    "from openai import OpenAI\n",
    "client = OpenAI()"
   ]
  },
  {
   "cell_type": "code",
   "execution_count": 4,
   "id": "3f69e922-1f8b-43eb-9d69-937ee6f8d9b6",
   "metadata": {
    "tags": []
   },
   "outputs": [],
   "source": [
    "assistant = client.beta.assistants.create(\n",
    "    name=\"Math Teacher\",\n",
    "    model=\"gpt-4-1106-preview\",\n",
    "    instructions=\"You are a personal math teacher. Write and run code to answer math questions.\",\n",
    "    tools=[{\"type\": \"code_interpreter\"}]\n",
    ")"
   ]
  },
  {
   "cell_type": "markdown",
   "id": "5b4c3428-3262-4e70-ac2d-755d647972ff",
   "metadata": {},
   "source": [
    "## Step 2: Create a Thread"
   ]
  },
  {
   "cell_type": "markdown",
   "id": "a1599708-7f18-4ca7-803a-3775a48ae469",
   "metadata": {},
   "source": [
    "**A Thread represents a conversation.** \n",
    "\n",
    "We recommend creating one Thread per user, as soon as the user initiates the conversation. Pass any user-specific context and files in this thread by creating Messages.\n",
    "\n",
    "https://platform.openai.com/docs/assistants/overview/step-2-create-a-thread"
   ]
  },
  {
   "cell_type": "code",
   "execution_count": 6,
   "id": "8d7990a8-a0da-48d1-a662-50ded23a31a1",
   "metadata": {
    "tags": []
   },
   "outputs": [],
   "source": [
    "thread = client.beta.threads.create()"
   ]
  },
  {
   "cell_type": "markdown",
   "id": "0c28fbc5-d2a0-42cf-9f5c-5dee8558ec66",
   "metadata": {},
   "source": [
    "## Step 3: Add a Message to a Thread"
   ]
  },
  {
   "cell_type": "markdown",
   "id": "b707ad7a-15af-43e9-9aa3-a0a135fe511f",
   "metadata": {},
   "source": [
    "https://platform.openai.com/docs/assistants/overview/step-3-add-a-message-to-a-thread"
   ]
  },
  {
   "cell_type": "code",
   "execution_count": 7,
   "id": "491aeed4-e83b-4ff3-8866-23cb48432bef",
   "metadata": {
    "tags": []
   },
   "outputs": [],
   "source": [
    "message = client.beta.threads.messages.create(\n",
    "    thread_id=thread.id,\n",
    "    role=\"user\",\n",
    "    content=\"I need to solve the equation `3x + 11 = 14`. Can you help me?\"\n",
    ")"
   ]
  },
  {
   "cell_type": "code",
   "execution_count": 8,
   "id": "bc68ab31-1b0e-43ee-a82f-18180e9ef1c6",
   "metadata": {
    "tags": []
   },
   "outputs": [
    {
     "data": {
      "text/plain": [
       "'thread_8bmmGEBduq2Pis2vy2TeWmWT'"
      ]
     },
     "execution_count": 8,
     "metadata": {},
     "output_type": "execute_result"
    }
   ],
   "source": [
    "thread.id"
   ]
  },
  {
   "cell_type": "code",
   "execution_count": 13,
   "id": "bdff2a7e-c8bf-4aff-9430-07f4eb40e126",
   "metadata": {
    "tags": []
   },
   "outputs": [
    {
     "data": {
      "text/plain": [
       "SyncCursorPage[ThreadMessage](data=[ThreadMessage(id='msg_mC1JYpADs8ijzxeYZjhDS0Aj', assistant_id=None, content=[MessageContentText(text=Text(annotations=[], value='I need to solve the equation `3x + 11 = 14`. Can you help me?'), type='text')], created_at=1700044603, file_ids=[], metadata={}, object='thread.message', role='user', run_id=None, thread_id='thread_8bmmGEBduq2Pis2vy2TeWmWT')], object='list', first_id='msg_mC1JYpADs8ijzxeYZjhDS0Aj', last_id='msg_mC1JYpADs8ijzxeYZjhDS0Aj', has_more=False)"
      ]
     },
     "execution_count": 13,
     "metadata": {},
     "output_type": "execute_result"
    }
   ],
   "source": [
    "client.beta.threads.messages.list(thread.id)"
   ]
  },
  {
   "cell_type": "markdown",
   "id": "02255f1c-1443-4e84-b742-7d45e57a6679",
   "metadata": {},
   "source": [
    "## Step 4: Run the Assistant"
   ]
  },
  {
   "cell_type": "markdown",
   "id": "07531571-9052-4f55-9cc6-9d310e059b69",
   "metadata": {},
   "source": [
    "Just create a `Run` method that is instantiated from threads, with the given parameters of `thread.id` and `assistant.id`."
   ]
  },
  {
   "cell_type": "code",
   "execution_count": 14,
   "id": "36aed77c-4766-4917-8a37-e88793638ce2",
   "metadata": {
    "tags": []
   },
   "outputs": [],
   "source": [
    "run = client.beta.threads.runs.create(\n",
    "  thread_id=thread.id,\n",
    "  assistant_id=assistant.id,\n",
    "  instructions=\"Please address the user as Jane Doe. The user has a premium account.\"\n",
    ")"
   ]
  },
  {
   "cell_type": "markdown",
   "id": "bf12cf76-2c4e-4e3c-bb71-1c0fe48426df",
   "metadata": {},
   "source": [
    "## Step 5: Display the Assistant's Response"
   ]
  },
  {
   "cell_type": "markdown",
   "id": "ff2a0b09-96f5-46e6-8b86-1d8a80de4ca0",
   "metadata": {},
   "source": [
    "This creates a Run in a `queued` status. You can periodically retrieve the Run to check on its status to see if it has moved to `completed`."
   ]
  },
  {
   "cell_type": "code",
   "execution_count": 15,
   "id": "36f9e91a-23b1-4077-930c-1bb6a6fb1c86",
   "metadata": {
    "tags": []
   },
   "outputs": [],
   "source": [
    "run = client.beta.threads.runs.retrieve(\n",
    "  thread_id=thread.id,\n",
    "  run_id=run.id\n",
    ")"
   ]
  },
  {
   "cell_type": "code",
   "execution_count": 16,
   "id": "16341392-66a4-4532-a137-12750da0eb71",
   "metadata": {
    "tags": []
   },
   "outputs": [
    {
     "data": {
      "text/plain": [
       "'completed'"
      ]
     },
     "execution_count": 16,
     "metadata": {},
     "output_type": "execute_result"
    }
   ],
   "source": [
    "run.status"
   ]
  },
  {
   "cell_type": "code",
   "execution_count": 17,
   "id": "7d0a036b-2040-4517-abed-d50254de8211",
   "metadata": {
    "tags": []
   },
   "outputs": [],
   "source": [
    "messages = client.beta.threads.messages.list(\n",
    "  thread_id=thread.id\n",
    ")"
   ]
  },
  {
   "cell_type": "code",
   "execution_count": 18,
   "id": "fc15fe81-761d-48c7-916d-62c1b03bac19",
   "metadata": {
    "tags": []
   },
   "outputs": [
    {
     "data": {
      "text/plain": [
       "SyncCursorPage[ThreadMessage](data=[ThreadMessage(id='msg_CyAl7M3AimTuEGH2QmWEK8Cj', assistant_id='asst_ZUoDtY0FsWWZmlONpuZcPQ0a', content=[MessageContentText(text=Text(annotations=[], value='The solution to the equation \\\\( 3x + 11 = 14 \\\\) is \\\\( x = 1 \\\\).'), type='text')], created_at=1700045245, file_ids=[], metadata={}, object='thread.message', role='assistant', run_id='run_ajJCur3pOmCbMHOPypTlgQFO', thread_id='thread_8bmmGEBduq2Pis2vy2TeWmWT'), ThreadMessage(id='msg_mC1JYpADs8ijzxeYZjhDS0Aj', assistant_id=None, content=[MessageContentText(text=Text(annotations=[], value='I need to solve the equation `3x + 11 = 14`. Can you help me?'), type='text')], created_at=1700044603, file_ids=[], metadata={}, object='thread.message', role='user', run_id=None, thread_id='thread_8bmmGEBduq2Pis2vy2TeWmWT')], object='list', first_id='msg_CyAl7M3AimTuEGH2QmWEK8Cj', last_id='msg_mC1JYpADs8ijzxeYZjhDS0Aj', has_more=False)"
      ]
     },
     "execution_count": 18,
     "metadata": {},
     "output_type": "execute_result"
    }
   ],
   "source": [
    "messages"
   ]
  },
  {
   "cell_type": "code",
   "execution_count": null,
   "id": "cb05c9b9-ffc8-4627-899b-49fc95ede6ab",
   "metadata": {},
   "outputs": [],
   "source": []
  }
 ],
 "metadata": {
  "kernelspec": {
   "display_name": "py39",
   "language": "python",
   "name": "py39"
  },
  "language_info": {
   "codemirror_mode": {
    "name": "ipython",
    "version": 3
   },
   "file_extension": ".py",
   "mimetype": "text/x-python",
   "name": "python",
   "nbconvert_exporter": "python",
   "pygments_lexer": "ipython3",
   "version": "3.9.6"
  }
 },
 "nbformat": 4,
 "nbformat_minor": 5
}
