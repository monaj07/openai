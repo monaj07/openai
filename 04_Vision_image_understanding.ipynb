{
 "cells": [
  {
   "cell_type": "markdown",
   "id": "49456376-722d-49eb-aef7-e952849869cb",
   "metadata": {},
   "source": [
    "# Vision (Image Understanding)"
   ]
  },
  {
   "cell_type": "markdown",
   "id": "a11f5946-23e4-4258-a971-1be563aed789",
   "metadata": {},
   "source": [
    "Images are made available to the model in two main ways: \n",
    "* by passing a link to the image, or \n",
    "* by passing the base64 encoded image directly in the request. \n",
    "Images can be passed in the user, and assistant messages. \n",
    "\n",
    "Currently OpenAI **doesn't support images in the first system message** but this may change in the future."
   ]
  },
  {
   "cell_type": "code",
   "execution_count": 5,
   "id": "f3e81f53-9ac5-443a-955b-c0ef4303a9f9",
   "metadata": {
    "tags": []
   },
   "outputs": [],
   "source": [
    "from openai import OpenAI\n",
    "\n",
    "client = OpenAI()\n",
    "\n",
    "response = client.chat.completions.create(\n",
    "    model=\"gpt-4-vision-preview\",\n",
    "    messages=[\n",
    "        {\n",
    "            \"role\": \"user\",\n",
    "            \"content\": [\n",
    "                {\"type\": \"text\", \"text\": \"What’s in this image? Summarise it in 1-2 lines.\"},\n",
    "                {\n",
    "                    \"type\": \"image_url\",\n",
    "                    \"image_url\": {\n",
    "                        \"url\": \"https://upload.wikimedia.org/wikipedia/commons/thumb/d/dd/Gfp-wisconsin-madison-the-nature-boardwalk.jpg/2560px-Gfp-wisconsin-madison-the-nature-boardwalk.jpg\",\n",
    "                    },\n",
    "                },\n",
    "            ],\n",
    "        }\n",
    "    ],\n",
    "    max_tokens=300,\n",
    "    temperature=1.5\n",
    ")"
   ]
  },
  {
   "cell_type": "code",
   "execution_count": 6,
   "id": "6dff1e84-950f-4047-b7ec-16ee2b894e70",
   "metadata": {
    "tags": []
   },
   "outputs": [
    {
     "name": "stdout",
     "output_type": "stream",
     "text": [
      "The image shows a wooden boardwalk meandering through a lush green grassland with a canopy of blue sky dotted with white clouds overhead.\n"
     ]
    }
   ],
   "source": [
    "print(response.choices[0].message.content)"
   ]
  },
  {
   "cell_type": "markdown",
   "id": "73b4f949-652f-412b-a8aa-22c20f83def1",
   "metadata": {},
   "source": [
    "https://platform.openai.com/docs/guides/vision"
   ]
  },
  {
   "cell_type": "code",
   "execution_count": null,
   "id": "212ce3e5-b609-4a35-a3cf-8adc21b598bf",
   "metadata": {},
   "outputs": [],
   "source": []
  }
 ],
 "metadata": {
  "kernelspec": {
   "display_name": "py39",
   "language": "python",
   "name": "py39"
  },
  "language_info": {
   "codemirror_mode": {
    "name": "ipython",
    "version": 3
   },
   "file_extension": ".py",
   "mimetype": "text/x-python",
   "name": "python",
   "nbconvert_exporter": "python",
   "pygments_lexer": "ipython3",
   "version": "3.9.6"
  }
 },
 "nbformat": 4,
 "nbformat_minor": 5
}
